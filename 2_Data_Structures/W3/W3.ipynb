{
 "cells": [
  {
   "cell_type": "markdown",
   "metadata": {},
   "source": [
    "# Implementation of binary trees using heaps\n",
    "\n",
    "## Operations included\n",
    "\n",
    "Shift UP <br>\n",
    "Shift Down <br>\n",
    "Insert <br>\n",
    "Remove <br>\n",
    "Extract Max <br>\n",
    "Change Priority <br>\n"
   ]
  },
  {
   "cell_type": "code",
   "execution_count": 43,
   "metadata": {},
   "outputs": [],
   "source": [
    "class Heaps:\n",
    "    def __init__(self, maxSize):\n",
    "        self.size = 0\n",
    "        self.maxSize = maxSize\n",
    "        self.heap = [None] * maxSize\n",
    "    \n",
    "    def swap(self, index1, index2):\n",
    "        temp = self.heap[index1]\n",
    "        self.heap[index1] = self.heap[index2]\n",
    "        self.heap[index2] = temp\n",
    "        return\n",
    "        \n",
    "    def parent_index(self, i):\n",
    "        return i // 2\n",
    "    \n",
    "    def leftchild_index(self,i):\n",
    "        return 2 * (i)\n",
    "    \n",
    "    def rightchild_index(self,i):\n",
    "        return (2 * i) + 1\n",
    "        \n",
    "    def shiftup(self, i):\n",
    "        while i > 1 and self.heap[self.parent_index(i)] < self.heap[i]:\n",
    "            self.swap(self.parent_index(i), i)\n",
    "            i = self.parent_index(i)\n",
    "        return\n",
    "    \n",
    "    def shiftdown(self, i):\n",
    "        maxIndex = i\n",
    "        l = self.leftchild_index(i)\n",
    "        r = self.rightchild_index(i)\n",
    "        \n",
    "        if l <= self.size and self.heap[l] > self.heap[maxIndex]:\n",
    "            maxIndex = l\n",
    "        if r <= self.size and self.heap[r] > self.heap[maxIndex]:\n",
    "            maxIndex = r\n",
    "        if i != maxIndex:\n",
    "            self.swap(i, maxIndex)\n",
    "            self.shiftdown(maxIndex)\n",
    "        \n",
    "        return\n",
    "    \n",
    "    def insert(self, p):\n",
    "        \n",
    "        if self.size == self.maxSize:\n",
    "            return False\n",
    "        \n",
    "        self.size += 1\n",
    "        self.heap[self.size] = p\n",
    "        self.shiftup(self.size)\n",
    "        \n",
    "        return\n",
    "    \n",
    "    def extractMax(self):\n",
    "        result = self.heap[1]\n",
    "        self.heap[1] = self.heap[self.size]\n",
    "        self.size -= 1\n",
    "        self.shiftdown(1)\n",
    "        \n",
    "        return result\n",
    "    \n",
    "    def remove(self,i):\n",
    "        \n",
    "        self.heap[i] += 9999999\n",
    "        self.shiftup(i)\n",
    "        self.extractMax()\n",
    "        \n",
    "        return\n",
    "    \n",
    "    def display(self):\n",
    "        for i in range(1,self.size + 1):\n",
    "            print(self.heap[i], end = \" \")"
   ]
  },
  {
   "cell_type": "code",
   "execution_count": 48,
   "metadata": {},
   "outputs": [
    {
     "name": "stdout",
     "output_type": "stream",
     "text": [
      "40 20 30 40\n",
      "30 20 30\n"
     ]
    }
   ],
   "source": [
    "if __name__ == '__main__':\n",
    "    h = Heaps(30)\n",
    "    h.insert(20)\n",
    "    h.insert(30)\n",
    "    h.insert(40)\n",
    "    h.display()\n",
    "    print(h.extractMax())\n",
    "    h.display()\n",
    "    print(h.extractMax())"
   ]
  },
  {
   "cell_type": "code",
   "execution_count": null,
   "metadata": {},
   "outputs": [],
   "source": []
  }
 ],
 "metadata": {
  "kernelspec": {
   "display_name": "Python 3",
   "language": "python",
   "name": "python3"
  },
  "language_info": {
   "codemirror_mode": {
    "name": "ipython",
    "version": 3
   },
   "file_extension": ".py",
   "mimetype": "text/x-python",
   "name": "python",
   "nbconvert_exporter": "python",
   "pygments_lexer": "ipython3",
   "version": "3.9.0"
  }
 },
 "nbformat": 4,
 "nbformat_minor": 4
}
