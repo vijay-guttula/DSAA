{
 "cells": [
  {
   "cell_type": "markdown",
   "id": "turkish-printing",
   "metadata": {},
   "source": [
    "# Hashing\n",
    "\n",
    "### We need to find a data structure which is suitable to hold ip logs of all possible ip(v4) address that is 2^32."
   ]
  },
  {
   "cell_type": "code",
   "execution_count": 1,
   "id": "informed-capital",
   "metadata": {},
   "outputs": [
    {
     "data": {
      "text/plain": [
       "'\\ndef ipv4format_to_decimal:\\n    return IP[1].(2^24) + IP[2].(2^16) + IP[3].(2^8) + IP[4] \\n'"
      ]
     },
     "execution_count": 1,
     "metadata": {},
     "output_type": "execute_result"
    }
   ],
   "source": [
    "\"\"\"\n",
    "Converting a  \n",
    "def ipv4format_to_decimal:\n",
    "    return IP[1].(2^24) + IP[2].(2^16) + IP[3].(2^8) + IP[4]\n",
    "\"\"\"\n",
    "\n",
    "\n"
   ]
  },
  {
   "cell_type": "code",
   "execution_count": null,
   "id": "combined-writing",
   "metadata": {},
   "outputs": [],
   "source": []
  }
 ],
 "metadata": {
  "kernelspec": {
   "display_name": "Python 3",
   "language": "python",
   "name": "python3"
  },
  "language_info": {
   "codemirror_mode": {
    "name": "ipython",
    "version": 3
   },
   "file_extension": ".py",
   "mimetype": "text/x-python",
   "name": "python",
   "nbconvert_exporter": "python",
   "pygments_lexer": "ipython3",
   "version": "3.8.8"
  }
 },
 "nbformat": 4,
 "nbformat_minor": 5
}
